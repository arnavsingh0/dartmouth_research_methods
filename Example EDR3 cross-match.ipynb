{
 "cells": [
  {
   "cell_type": "code",
   "execution_count": null,
   "id": "9308f7e1",
   "metadata": {},
   "outputs": [],
   "source": [
    "# log on to Gaia server (will need to create an account)\n",
    "from astroquery.gaia import Gaia\n",
    "Gaia.login()"
   ]
  },
  {
   "cell_type": "code",
   "execution_count": null,
   "id": "3120eee2",
   "metadata": {},
   "outputs": [],
   "source": [
    "# get the table you are cross-matching to Gaia ready"
   ]
  },
  {
   "cell_type": "code",
   "execution_count": null,
   "id": "f6d80aff",
   "metadata": {},
   "outputs": [],
   "source": [
    "# upload the table to Gaia\n",
    "\n",
    "# job = Gaia.delete_user_table(\"stars\") ## if uploaded table already exists\n",
    "Gaia.upload_table(upload_resource=table, table_name='stars')"
   ]
  },
  {
   "cell_type": "code",
   "execution_count": null,
   "id": "df932836",
   "metadata": {},
   "outputs": [],
   "source": [
    "# replace \"user_enewton\" with your username\n",
    "# replace \"ra_input\" and \"dec_input\" with the columns containing RA and Dec\n",
    "query = \"SELECT * , distance( \\\n",
    "  POINT('ICRS', er.ra_input, er.dec_input), \\\n",
    "  POINT('ICRS', gaia.ra, gaia.dec)) AS dist \\\n",
    "FROM user_enewton.stars AS er \\ \n",
    "JOIN gaiaedr3.gaia_source AS gaia \\\n",
    "  ON 1=CONTAINS( \\\n",
    "    POINT('ICRS', er.ra_input, er.dec_input), \\\n",
    "    CIRCLE('ICRS', gaia.ra, gaia.dec, 0.00005))\"\n",
    "\n",
    "# run the query and read back in the table\n",
    "filename ='mearth_dr3xmatch.dat'\n",
    "Gaia.launch_job_async(query, output_file=filename,\n",
    "                        dump_to_file=True, verbose=True)\n",
    "mearthx = Table.read(filename).to_pandas()"
   ]
  },
  {
   "cell_type": "code",
   "execution_count": null,
   "id": "815cc458",
   "metadata": {},
   "outputs": [],
   "source": [
    "# check for duplicates\n",
    "\n",
    "duplicates = mearthx[['twomass']].duplicated(keep=False)\n",
    "duplicates"
   ]
  },
  {
   "cell_type": "code",
   "execution_count": null,
   "id": "b742318b",
   "metadata": {},
   "outputs": [],
   "source": [
    "# check for stars that DIDN'T match\n",
    "\n"
   ]
  },
  {
   "cell_type": "markdown",
   "id": "454972de",
   "metadata": {},
   "source": [
    "This is a VERY tight positional search. Since the MEarth positions are already Gaia DR2 positions, they should be very close to the EDR3 positions. Having a very tight search means there will be fewer instances of having multiple stars matched (duplicates), but makes it be more likely that there are stars that didn't match at all. For the purposes of this project, you can just assess the scope of the problem and not worry about solving it."
   ]
  },
  {
   "cell_type": "code",
   "execution_count": null,
   "id": "551617f7",
   "metadata": {},
   "outputs": [],
   "source": []
  }
 ],
 "metadata": {
  "kernelspec": {
   "display_name": "Python 3 (ipykernel)",
   "language": "python",
   "name": "python3"
  },
  "language_info": {
   "codemirror_mode": {
    "name": "ipython",
    "version": 3
   },
   "file_extension": ".py",
   "mimetype": "text/x-python",
   "name": "python",
   "nbconvert_exporter": "python",
   "pygments_lexer": "ipython3",
   "version": "3.8.12"
  }
 },
 "nbformat": 4,
 "nbformat_minor": 5
}
