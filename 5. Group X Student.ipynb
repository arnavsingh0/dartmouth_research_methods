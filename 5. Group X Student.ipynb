{
 "cells": [
  {
   "cell_type": "markdown",
   "metadata": {},
   "source": [
    "# Goals for this project:\n",
    "\n",
    "As we learned in class, when handeling large data sets, matching them, and eventually merging them is important to quickly and efficiently analyze and study data sets. In this project, we will be working with three large data sets that contain the star members of the young cluster 'Group X'. Professor Newton's work shows that this cluster is about 300 Myr old, and that one of the stars (TOI 2048) in the cluster hosts an exoplanet. Here, we'll look athe stars in the cluster. We will download these data sets from the archive, compare these archives against each other using the pandas merge function and by plotting the contents of each. "
   ]
  },
  {
   "cell_type": "code",
   "execution_count": null,
   "metadata": {
    "collapsed": true
   },
   "outputs": [],
   "source": [
    "# Import required modules"
   ]
  },
  {
   "cell_type": "markdown",
   "metadata": {},
   "source": [
    "# 1. Group X\n",
    "\n",
    "Three different studies have tried indentifying a new stellar cluster near Coma Ber called Group X. These studies are Furnkranz et al. 2019, Tang et al. 2019, and Professor Newton's current study! \n",
    "\n",
    "\n",
    "## 1.a. Find the ADS listings for Furnkranz et al. (2019) and Tang et al. (2019). \n",
    "It may be helpful to sort based on refereed papers, dates, and topics.\n",
    "\n",
    "## 1.b. Read what you need to of either Furnkranz et al. or Tang et al. to answer the following questions. \n",
    "You do NOT need to read the whole paper.\n",
    "\n",
    "### 1.b.i. What lead these two authors to discover Group-X?\n",
    "\n",
    "Your answer here.\n",
    "\n",
    "### 1.b.ii. What data did they use to make the discovery?\n",
    "\n",
    "Your answer here.\n",
    "\n",
    "### 1.b.iii. What are the authors key conclusions?\n",
    "\n",
    "Your answer here."
   ]
  },
  {
   "cell_type": "markdown",
   "metadata": {},
   "source": [
    "\n",
    "The stars in Professor Newton's study were selected differently. They used the `FindFriends` algorithm, which looks for stars are moving together with one target star. In this case, they centered the search for Friends around the exoplanet host star, TOI 2048. They considerered only stars within 25pc of TOI 2048, and the algorithm let them select stars co-moving with TOI 2048.\n"
   ]
  },
  {
   "cell_type": "markdown",
   "metadata": {},
   "source": [
    "# 2. Download the data for each of these studies.\n",
    "\n",
    "### 2.a. Download and read in the data for each study\n",
    "\n",
    "For the Furnkranz and Tang studies, we can access the archive just as we did in class using CDS/VizieR, accessed by the data products tool in ADS. We will then want to access the table for the neighboring group of stars/ Group X stars (not the Coma Ber table). Once in Vizier, we want to set our preferences on the left hand side of the screen to download a format that will be easily readable (I recommend the | - Separated Values). Once we have set our preferences, we can click submit to finish our query. \n",
    "\n",
    "Professor Newton's Study can be found here (it also in our shared folder on the jupyter hub): \n",
    "<url>https://github.com/ernewton/dartmouth_research_methods/blob/main/Tables/TOI2048_friends_forclass.csv\n",
    "\n",
    "\n",
    "Finally, upload these data sets to the jupyter hub to use in this notebook, and read them in using pandas. "
   ]
  },
  {
   "cell_type": "code",
   "execution_count": null,
   "metadata": {
    "collapsed": true
   },
   "outputs": [],
   "source": [
    "# Your code here"
   ]
  },
  {
   "cell_type": "markdown",
   "metadata": {},
   "source": [
    "### 2.b. Create study identifiers\n",
    "\n",
    "Great, now we have all three data files! We are going to merge the three tables so that we can see what stars appear in each dataset (where there are different and where they are matching). To enable this, we will need columns that tell us whether a star was in each dataset. So, let's add a column to each data table as an identifier for what study they originally belonged to. For example, I recommend adding in a column to the dataframe for the Tang et al. study called `tang` and set it equal to \"True\" for every object. "
   ]
  },
  {
   "cell_type": "code",
   "execution_count": null,
   "metadata": {
    "collapsed": true
   },
   "outputs": [],
   "source": [
    "# Your code here"
   ]
  },
  {
   "cell_type": "markdown",
   "metadata": {},
   "source": [
    "# 3. Prepare to merge the data"
   ]
  },
  {
   "cell_type": "markdown",
   "metadata": {},
   "source": [
    "Now that we are able to track which candidates belong to which study, we can now start merging our data sets to include all candidate members of Group X. To do so, we will want to merge the data sets using the Gaia IDs, which are included in each table. \n",
    "\n",
    "### 3.a. Which of the columns in each table list the Gaia IDs?\n",
    "\n",
    "Your answer here.\n",
    "\n"
   ]
  },
  {
   "cell_type": "markdown",
   "metadata": {},
   "source": [
    "### 3.b. Fix the IDs from Tang et al.\n",
    "\n",
    "If you look at the table from the Tang et al. study, you can see that the column we want, `SIMBADName`, has the Gaia IDs but with the string 'Gaia DR2' in front of them. We will have to remove this to properly cross-match the data to merge. We can do so by creating a new column with just the Gaia ID numbers in it for the Tang et al. study data table. You'll want to create a new column, and then loop through each row in the table, at each iteration removing the beginning of the string and saving the results. You'll need to use the `.loc` property like we used in class."
   ]
  },
  {
   "cell_type": "code",
   "execution_count": null,
   "metadata": {},
   "outputs": [],
   "source": [
    "#example of selecting a subset of a string\n",
    "example_string = 'FlowersSunshineRainbows'\n",
    "print(example_string[7:]) # select from the 7th character onwards"
   ]
  },
  {
   "cell_type": "code",
   "execution_count": null,
   "metadata": {
    "collapsed": true
   },
   "outputs": [],
   "source": [
    "# Your code here"
   ]
  },
  {
   "cell_type": "markdown",
   "metadata": {},
   "source": [
    "### 3.c. Picking out the columns we are interested in\n",
    "\n",
    "There are a lot of columns in these datasets, and it'll be a bit more convenient to limit the number of columns to those we'll use. For this exercise, we will need the stars' Gaia ID's, RA, Dec, the propermotion of each object in both RA and Dec (pmdec, pmra)(make sure all of the units match), and the True indicator column that you created for each table (e.g. the column named `tang` filled with True). Create new dataframes for these three data sets only including the information we are interested in. "
   ]
  },
  {
   "cell_type": "code",
   "execution_count": null,
   "metadata": {
    "collapsed": true
   },
   "outputs": [],
   "source": [
    "# Your code here"
   ]
  },
  {
   "cell_type": "markdown",
   "metadata": {},
   "source": [
    "# 4. Merge the data"
   ]
  },
  {
   "cell_type": "markdown",
   "metadata": {},
   "source": [
    "### 4.a. Perform merge\n",
    "\n",
    "Now that we have prepared all three data sets for merging, merge the data using an 'outer' merge according to the Gaia ID's. You will have to merge the data twice as you can only merge two dataframes at once."
   ]
  },
  {
   "cell_type": "code",
   "execution_count": null,
   "metadata": {},
   "outputs": [],
   "source": [
    "# Your code here"
   ]
  },
  {
   "cell_type": "markdown",
   "metadata": {},
   "source": [
    "# 5. Explore the data\n",
    "\n",
    "Now that we have a total merged list of the candidates for Group X from these three studies, let's analyze the resulting merged candidate list. \n",
    "\n",
    "### 5.a. How many stars are unique to each study?\n",
    "\n",
    "That is, how many stars only show up in one data set? You'll need to make use of the columns you added and boolean logic. This may take some trial and error -- inspect the output entries to make sure they are what you expect.\n"
   ]
  },
  {
   "cell_type": "code",
   "execution_count": null,
   "metadata": {
    "collapsed": true
   },
   "outputs": [],
   "source": [
    "# Your code here"
   ]
  },
  {
   "cell_type": "markdown",
   "metadata": {},
   "source": [
    "### 5.b. How many stars are repeates? Meaning, they show up in more than one data set.\n"
   ]
  },
  {
   "cell_type": "code",
   "execution_count": null,
   "metadata": {
    "collapsed": true
   },
   "outputs": [],
   "source": [
    "# Your code here"
   ]
  },
  {
   "cell_type": "markdown",
   "metadata": {},
   "source": [
    "# 6. Plotting the data\n",
    "\n",
    "\n",
    "## 6.a.i. Plot proper motion\n",
    "\n",
    "Show the proper motion of the Tang and Furnkranz data sets on single plot. Choose your plot formatting (ie. color, shape, opacity) to highlight the similarities and/or differences between the two datasets."
   ]
  },
  {
   "cell_type": "code",
   "execution_count": null,
   "metadata": {
    "collapsed": true
   },
   "outputs": [],
   "source": [
    "# Your code here"
   ]
  },
  {
   "cell_type": "markdown",
   "metadata": {},
   "source": [
    "## 6.a.ii. Comment on the similarities and differences\n",
    "\n",
    "Your response here"
   ]
  },
  {
   "cell_type": "markdown",
   "metadata": {},
   "source": [
    "## 6.b.ii. Plot RA and Dec\n",
    "\n",
    "Plot the RA and Dec of all three data sets. Don't distinguish between Tang and Furnkranz, but distinguish which stars appear in the friends dataset by utilizing different plotting formats. "
   ]
  },
  {
   "cell_type": "code",
   "execution_count": null,
   "metadata": {
    "collapsed": true
   },
   "outputs": [],
   "source": [
    "# Your code here"
   ]
  },
  {
   "cell_type": "markdown",
   "metadata": {},
   "source": [
    "## 6.b.ii. Comment on the similarities and differences\n",
    "\n",
    "Your response here"
   ]
  }
 ],
 "metadata": {
  "kernelspec": {
   "display_name": "Python 3",
   "language": "python",
   "name": "python3"
  },
  "language_info": {
   "codemirror_mode": {
    "name": "ipython",
    "version": 3
   },
   "file_extension": ".py",
   "mimetype": "text/x-python",
   "name": "python",
   "nbconvert_exporter": "python",
   "pygments_lexer": "ipython3",
   "version": "3.6.8"
  }
 },
 "nbformat": 4,
 "nbformat_minor": 2
}
