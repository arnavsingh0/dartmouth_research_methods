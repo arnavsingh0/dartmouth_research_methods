{
 "cells": [
  {
   "cell_type": "markdown",
   "id": "e8ef31a9",
   "metadata": {},
   "source": [
    "# Create Master Bias and Subtract from the flat field and science images\n",
    "This code will read in all of the raw data frames from Mookodi (MKD\\*.fits) in the current direcdtory, create a master bias and then subtract this master bias from all of the flat field and science images in the same direcctory."
   ]
  },
  {
   "cell_type": "code",
   "execution_count": null,
   "id": "c953d27b",
   "metadata": {},
   "outputs": [],
   "source": [
    "\n",
    "import os\n",
    "from pathlib import Path\n",
    "import glob\n",
    "import numpy as np\n",
    "from astropy.io import fits\n",
    "\n",
    "\n",
    "my_cwd = Path(os.getcwd())\n",
    "fits_files = list(my_cwd.glob('MKD*.fits'))\n",
    "\n",
    "bias_keyword = \"BIAS\" \n",
    "\n",
    "bias_files = []\n",
    "files_for_bias_subtraction = []\n",
    "\n",
    "# Make lists of the names of the bias images, and the flat field/science images\n",
    "\n",
    "for file in fits_files:\n",
    "    hdul = fits.open(file)  # open a FITS file\n",
    "    hdr = hdul[0].header  #extract the header information \n",
    "\n",
    "    if hdr['IMAGETYP'] == bias_keyword and 'OBJECT'  in hdr :\n",
    "       bias_files.append(file)\n",
    "    else :\n",
    "      files_for_bias_subtraction.append(file)\n",
    "\n",
    "\n",
    "if len(bias_files) == 0:\n",
    "       print(\"     !!! ERROR: no BIAS files found\" )\n",
    "       exit()\n",
    "\n"
   ]
  },
  {
   "cell_type": "markdown",
   "id": "9b660926",
   "metadata": {},
   "source": [
    "## Create the Master bias by taking the median of the individual bias frames\n",
    "The mean and standard deviation of each individual bias frame are output to the screen.  Check that these numbers are consistent with each other. If there is a bad bias frame, delete its MKD\\*.fits file and re-run the code. The new master bias frame will over-write the old master bias frame each time the cell below is run. The master bias frame has some keywords appended to its header to indicate it is a master bias, which was created by median combining a number of individual bias frames"
   ]
  },
  {
   "cell_type": "code",
   "execution_count": null,
   "id": "c8813d99",
   "metadata": {},
   "outputs": [],
   "source": [
    "bias_concat = []\n",
    "\n",
    "for i in bias_files:\n",
    "    bias_hdulist = fits.open(i, ignore_missing_end=True)\n",
    "    bias_hdu = bias_hdulist[0]\n",
    "    bias_data = bias_hdu.data.astype(float)\n",
    "    bias_concat.append(bias_data)\n",
    "\n",
    "    bias_mean = np.mean(bias_data)\n",
    "    bias_std = np.std(bias_data)\n",
    "    file_name = os.path.basename(i)\n",
    "    print(file_name, \" mean: \", bias_mean, \"stand. dev: \",bias_std)\n",
    "\n",
    "\n",
    "# take median of all biases to make master bias\n",
    "master_bias = np.median(bias_concat, axis=0)\n",
    "\n",
    "#write out the bias frame, adding keywords \n",
    "new_hdu = bias_hdu\n",
    "new_hdu.header['MASTERB'] = (\"TRUE\", \"Master Bias\")\n",
    "new_hdu.header['NCOMBINE'] = (str(len(bias_files)), \"Median Combine\")\n",
    "new_hdu.data = np.array((master_bias))\n",
    "new_hdu.writeto(\"master_bias.fits\", overwrite=True)\n",
    "bias_hdulist.close()\n",
    "\n",
    "print()\n",
    "print(\"Created master_bias.fits and will now subtract it from the other frames\")\n",
    "\n"
   ]
  },
  {
   "cell_type": "markdown",
   "id": "c6c38d9d",
   "metadata": {},
   "source": [
    "## Subtract the master bias from all other fits frames in this directory\n",
    "The bias subtracted frames will have filenames which start with a 'b'.  Their header will be updated to indicate that the frames have been bias subtracted.  "
   ]
  },
  {
   "cell_type": "code",
   "execution_count": null,
   "id": "e2e72213",
   "metadata": {},
   "outputs": [],
   "source": [
    "#\n",
    "\n",
    "print(\"New files created:\") \n",
    "\n",
    "for i in files_for_bias_subtraction : \n",
    "    file_name = os.path.basename(i)\n",
    "    outfile = \"b\" + file_name\n",
    "    print(outfile) \n",
    "    object_hdulist = fits.open(i, ignore_missing_end=True)\n",
    "    object_hdu = object_hdulist[0]\n",
    "    object_data = object_hdu.data.astype(float) \n",
    "    new_hdu = object_hdu\n",
    "    new_hdu.header['BIAS_SUB'] = (\"TRUE\", \"Bias Subtracted\")\n",
    "    new_hdu.data = object_data - master_bias\n",
    "    new_hdu.writeto(outfile, overwrite=True)\n",
    "   \n"
   ]
  },
  {
   "cell_type": "code",
   "execution_count": null,
   "id": "88127d0b",
   "metadata": {},
   "outputs": [],
   "source": []
  }
 ],
 "metadata": {
  "kernelspec": {
   "display_name": "Python 3 (ipykernel)",
   "language": "python",
   "name": "python3"
  },
  "language_info": {
   "codemirror_mode": {
    "name": "ipython",
    "version": 3
   },
   "file_extension": ".py",
   "mimetype": "text/x-python",
   "name": "python",
   "nbconvert_exporter": "python",
   "pygments_lexer": "ipython3",
   "version": "3.9.7"
  }
 },
 "nbformat": 4,
 "nbformat_minor": 5
}
