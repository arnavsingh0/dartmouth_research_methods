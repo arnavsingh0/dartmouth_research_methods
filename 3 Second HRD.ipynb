{
 "cells": [
  {
   "cell_type": "code",
   "execution_count": null,
   "metadata": {},
   "outputs": [],
   "source": [
    "import numpy as np\n",
    "from astropy.table import Table\n",
    "import pandas as pd\n",
    "import matplotlib.pyplot as plt"
   ]
  },
  {
   "cell_type": "markdown",
   "metadata": {},
   "source": [
    "Our goal is to create a new Hertsprung-Russell (HR, or color-magnitude diagram) based on data from the Gaia satellite. "
   ]
  },
  {
   "cell_type": "markdown",
   "metadata": {},
   "source": [
    "# 1. Read and examine the data\n",
    "\n",
    "Query the Gaia archive <url>https://gea.esac.esa.int/archive/ </url> and ask for the Gaia DR3 number, the parallax and its error, and the magnitude of the star in G, and Bp-Rp (in the units of magnitude).  Only get the data for stars with high quality parallax > 20 (Gaia reports parallaxes in milliarcseconds) and high quality photometry. Here, I am defining high quality parallaxes to have an uncertainty of less than 4%, ruwe < 1.4 AND g.astrometric_excess_noise < 1.8. High quality photometry is defined to be stars with flux errors in G, Rp and Bp less than 1%, Download a csv file.\n",
    "\n",
    "### 1.a. Read in the data. Print out the first few entries of the table.\n"
   ]
  },
  {
   "cell_type": "code",
   "execution_count": null,
   "metadata": {},
   "outputs": [],
   "source": [
    "# Your code here"
   ]
  },
  {
   "cell_type": "markdown",
   "metadata": {},
   "source": [
    "### 1.b. Calculate the distance and absolute G magnitudes. \n",
    "\n",
    "You'll need to use the online documentation to figure out which columns you need: <url>https://gea.esac.esa.int/archive/documentation/GEDR3/Gaia_archive/chap_datamodel/sec_dm_main_tables/ssec_dm_gaia_source.html</url> (I found this webpage with, drumroll please! a google search for \"gaia edr3 columns\")"
   ]
  },
  {
   "cell_type": "code",
   "execution_count": null,
   "metadata": {},
   "outputs": [],
   "source": [
    "# Your code here"
   ]
  },
  {
   "cell_type": "markdown",
   "metadata": {},
   "source": [
    "### 1.c. Plot the data\n",
    "\n",
    "Don't forget the usual axis labels/clarity requirements."
   ]
  },
  {
   "cell_type": "code",
   "execution_count": null,
   "metadata": {},
   "outputs": [],
   "source": [
    "# Your code here"
   ]
  },
  {
   "cell_type": "markdown",
   "metadata": {},
   "source": [
    "# 2. Investigating the data\n",
    "\n",
    "Data that comes in is never perfect. The plot we made above looks <i>kind of</i> like an HR diagram. You should be able to identify the main sequence, and a white dwarf sequence. There aren't evolved stars mostly because I only looked at the nearest stars, and evolved stars are rare (<i>Why does that make sense?</i>) But then there's this hockey stick where the fainter stars start getting bluer again--we know from other observations that this isn't correct. The reason is that some of the data has bad quality. Although it still won't be perfect, we can do a lot of good by cleaning away data that doesn't have good signal-to-noise in the brightness measurements.\n",
    "\n",
    "### 2.a. The flux error column.\n",
    "\n",
    "The first column we want to look at is `phot_bp_mean_flux_over_error`. What information is contained within this column? What does higher vs lower values mean?\n",
    "\n"
   ]
  },
  {
   "cell_type": "markdown",
   "metadata": {},
   "source": [
    "\n",
    "<span style=\"color:blue\">\n",
    "    Your answer here\n",
    "</span>\n"
   ]
  },
  {
   "cell_type": "markdown",
   "metadata": {},
   "source": [
    "### 2.b. Make plots to examine this column.\n",
    "\n",
    "Make two plots:\n",
    "1) a plot of Bp-Rp color vs `phot_bp_mean_flux_over_error`\n",
    "2) a plot of Bp flux vs `phot_bp_mean_flux_over_error`\n",
    "\n",
    "It may help to use log scaling for some of your axes: test it out and see which ones convey the information best.\n"
   ]
  },
  {
   "cell_type": "code",
   "execution_count": null,
   "metadata": {},
   "outputs": [],
   "source": [
    "# Your code here"
   ]
  },
  {
   "cell_type": "markdown",
   "metadata": {},
   "source": [
    "### 2.c. Interpretation\n",
    "\n",
    "What did your plots show? What's a reasonable cut to use to cut out the low S/N measurements?"
   ]
  },
  {
   "cell_type": "markdown",
   "metadata": {},
   "source": [
    "<span style=\"color:blue\">\n",
    "    Your answer here\n",
    "</span>"
   ]
  },
  {
   "cell_type": "markdown",
   "metadata": {},
   "source": [
    "# 3. Cleaning the data\n",
    "\n",
    "## 3.a. Creating and using boolean arrays\n",
    "\n",
    "You can select parts of an array using boolean logic, which is to say, asking whether something is True or False. For example `good = df['column'] > 15` will produce a <b>boolean</b> array filled with True (where the condition is met, i.e. the entry is greater than 15) or False (where the condition is not met). Below I've created a boolean array `bp_good` which will be True when the S/N is high on the Bp measurement--this is the data we want to keep. \n",
    "\n",
    "### 3.a.i. Add a similar line to create an array `rp_good` "
   ]
  },
  {
   "cell_type": "code",
   "execution_count": null,
   "metadata": {},
   "outputs": [],
   "source": [
    "bp_good = df['phot_bp_mean_flux_over_error'] > 15\n",
    "\n",
    "# Your code here"
   ]
  },
  {
   "cell_type": "markdown",
   "metadata": {},
   "source": [
    "### 3.a.ii. Examine the arrays you've created. \n",
    "\n",
    "You can now select entries from the table using the boolean arrays. The code below will produce an array of `bp_rp` that contains every entry where `bp_good` is True (and exclude those where `bp_good` is False). Examine the output by plotting the data, to verify that behavior is what you expect."
   ]
  },
  {
   "cell_type": "code",
   "execution_count": null,
   "metadata": {},
   "outputs": [],
   "source": [
    "df['bp_rp'][bp_good]"
   ]
  },
  {
   "cell_type": "markdown",
   "metadata": {},
   "source": [
    "Explain why your table and/or plot demonstrates the code is working.\n",
    "\n",
    "<span style=\"color:blue\">\n",
    "    Your answer here\n",
    "</span>"
   ]
  },
  {
   "cell_type": "markdown",
   "metadata": {},
   "source": [
    "## 3.b. Combining boolean arrays\n",
    "\n",
    "We can combine two boolean arrays. Below I've created a small example where you can explore this ability. "
   ]
  },
  {
   "cell_type": "code",
   "execution_count": null,
   "metadata": {},
   "outputs": [],
   "source": [
    "# two boolean arrays to select based upon\n",
    "bool1 = np.array([True, True, False, False, True])\n",
    "bool2 = np.array([False, True, True, False, False])\n",
    "# some arrays of values\n",
    "number = [1, 2, 3, 4, 5]\n",
    "letter = ['a', 'b', 'c', 'd', 'e']\n",
    "\n",
    "# create an astropy table containing this information\n",
    "data = Table([bool1, bool2, number, letter], \n",
    "             names=['bool1','bool2','number','letter']).to_pandas()\n",
    "\n",
    "# select only the data where bool1 is True:\n",
    "data[bool1]"
   ]
  },
  {
   "cell_type": "markdown",
   "metadata": {},
   "source": [
    "### 3.b.i Select data from the table based on where `bool1` is True."
   ]
  },
  {
   "cell_type": "code",
   "execution_count": null,
   "metadata": {},
   "outputs": [],
   "source": [
    "# Your code here"
   ]
  },
  {
   "cell_type": "markdown",
   "metadata": {},
   "source": [
    "### 3.b.ii. Select data from the table based on where `bool1` AND `bool2` are True. \n",
    "\n",
    "You can combine boolean arrays like so: `bool1 & bool2` "
   ]
  },
  {
   "cell_type": "code",
   "execution_count": null,
   "metadata": {},
   "outputs": [],
   "source": [
    "# Your code here"
   ]
  },
  {
   "cell_type": "markdown",
   "metadata": {},
   "source": [
    "If instead you wanted the case where `bool1` OR `bool2` is True, you could use: `bool1 | bool2` "
   ]
  },
  {
   "cell_type": "markdown",
   "metadata": {},
   "source": [
    "# 4. A better HR diagram\n",
    "\n",
    "### 4.a. Make an HR diagram using only those stars for which both Bp and Rp have sufficient S/N."
   ]
  },
  {
   "cell_type": "code",
   "execution_count": null,
   "metadata": {},
   "outputs": [],
   "source": [
    "# Your code here"
   ]
  },
  {
   "cell_type": "markdown",
   "metadata": {},
   "source": [
    "### 4.b. Brainstorm ways to present the data differently.\n",
    "\n",
    "What are some ways you could present these data differently? i.e., using different plotting tools like the ones we did together in class when looking at the star formation rate data. \n"
   ]
  },
  {
   "cell_type": "markdown",
   "metadata": {},
   "source": [
    "<span style=\"color:blue\">\n",
    "    Your answer here\n",
    "</span>"
   ]
  },
  {
   "cell_type": "markdown",
   "metadata": {},
   "source": [
    "### 4.c. Make two different versions of this plot.\n",
    "\n",
    "Pick two of your ideas from the previous part and make them! Then, comment: What did you want to convey with the idea? Do you think it worked? "
   ]
  },
  {
   "cell_type": "code",
   "execution_count": null,
   "metadata": {},
   "outputs": [],
   "source": [
    "# Your code here"
   ]
  },
  {
   "cell_type": "markdown",
   "metadata": {},
   "source": [
    "<span style=\"color:blue\">\n",
    "    Your answer here\n",
    "</span>"
   ]
  }
 ],
 "metadata": {
  "kernelspec": {
   "display_name": "Python 3 (ipykernel)",
   "language": "python",
   "name": "python3"
  },
  "language_info": {
   "codemirror_mode": {
    "name": "ipython",
    "version": 3
   },
   "file_extension": ".py",
   "mimetype": "text/x-python",
   "name": "python",
   "nbconvert_exporter": "python",
   "pygments_lexer": "ipython3",
   "version": "3.8.5"
  }
 },
 "nbformat": 4,
 "nbformat_minor": 4
}
