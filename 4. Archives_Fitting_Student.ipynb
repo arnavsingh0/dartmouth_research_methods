{
 "cells": [
  {
   "cell_type": "markdown",
   "metadata": {},
   "source": [
    "# Goals for this project:\n",
    "\n",
    "1. Get data from an archive\n",
    "2. Learn how to use functions in python\n",
    "2. Learn how to fit data\n",
    "\n",
    "We will be using Fermi-LAT data on the Crab Nebula during flaring periods to investigate different fitting\n",
    "algorithms and techniques. We will be fitting a gaussian and a parabola to each curve to find the peak of the\n",
    "flare (when in time is the peak). Determining the peak of a flare in time is very important when using multi-wavelength observations to study an object. For example, knowing exactly when the Crab Nebula peaks in gamma-rays and comparing this peak to a longer wavelength, you can develop models on what environment that flare originated at depending on how fast the material from the flare cools down to lower energy emission (some material cools down faster than others, so this will give you a sense of what the environment is that the flare occured in, and where exactly it occured). "
   ]
  },
  {
   "cell_type": "markdown",
   "metadata": {},
   "source": [
    "# Question 1: Introduction to the Crab Nebula\n",
    "\n",
    "What is the crab nebula? What are Crab Flares? Refer to sections 1,2, and 5 of this paper for additional information: <url> https://arxiv.org/pdf/1309.7046.pdf\n"
   ]
  },
  {
   "cell_type": "markdown",
   "metadata": {},
   "source": [
    "Please type your answer here. "
   ]
  },
  {
   "cell_type": "markdown",
   "metadata": {},
   "source": [
    "# Question 2: Getting Data from an Archive\n",
    "\n",
    "### 2.a.i. Download Data\n",
    "\n",
    "Now let's get some data! If you remember from class, HEASARC is one of the NASA archives which serves the Fermi Gamma-ray space telescope. Using the following link, locate the LAT Monitored Source List Light Curves and click on that page: <url> https://fermi.gsfc.nasa.gov/ssc/data/access/ .\n",
    "\n",
    "From here, search for the Crab Pulsar and right click on the Daily Light Curve Fits File. You will then click on \"Save Link As...\" and save the file to your computer. You will then be able to upload this data file to your directory on the jupyter hub (should be a .lc file).\n",
    "\n",
    "Below, read in the fits file using the `fits.open` function and save the result as `data` (look up this function for information on how to do this). "
   ]
  },
  {
   "cell_type": "code",
   "execution_count": null,
   "metadata": {},
   "outputs": [],
   "source": [
    "#Importing necessary libraries\n",
    "\n",
    "import numpy as np\n",
    "import matplotlib.pyplot as plt\n",
    "import scipy.constants\n",
    "from astropy.io import fits"
   ]
  },
  {
   "cell_type": "code",
   "execution_count": null,
   "metadata": {},
   "outputs": [],
   "source": [
    "# Place your code here"
   ]
  },
  {
   "cell_type": "markdown",
   "metadata": {},
   "source": [
    "### 2.a.ii. View the table information\n",
    "\n",
    "Next, view the headers of the fits file, which contains information about the data stored in the table. You can access the header like this: `data[1].header`  (look at the bottom of the output to find the names of the columns included in the data file.). "
   ]
  },
  {
   "cell_type": "code",
   "execution_count": null,
   "metadata": {},
   "outputs": [],
   "source": [
    "# Place your code here"
   ]
  },
  {
   "cell_type": "markdown",
   "metadata": {},
   "source": [
    "### 2.b. Reading in the data and assigning variable names\n",
    "\n",
    "We will want the Flux for 100_300000 MeV energy cut, the corresponding error for those fluxes, and the time (this column is somewhat unintuitively called `STOP`). Read in the flux, flux errors, and time into your notebook and give them corresponding names. The data is stored in `data[1].data` and you access the columns by putting the name of the column in square brackets. \n",
    "\n",
    "As can be seen in the fits header that you printed out above, the time variable unit is seconds. Convert your time "
   ]
  },
  {
   "cell_type": "code",
   "execution_count": null,
   "metadata": {},
   "outputs": [],
   "source": [
    "# Place your code here"
   ]
  },
  {
   "cell_type": "markdown",
   "metadata": {},
   "source": [
    "### 2.c. Plotting our archive data\n",
    "\n",
    "Let's now plot this data we got from our first archive! Using the `plt.errorbar` function, plot your flux, flux errors, and time. Please use appropriate titles and axis labels (if you need to find the units for your flux, please look at the headers we loaded in). Choose how the data is plotted so that your plot is an accurate reflection of the data."
   ]
  },
  {
   "cell_type": "code",
   "execution_count": null,
   "metadata": {},
   "outputs": [],
   "source": [
    "# Place your code here"
   ]
  },
  {
   "cell_type": "markdown",
   "metadata": {
    "collapsed": true
   },
   "source": [
    "Now, compare your plot to the one shown on the archive page where you downloaded the file originally. Adapt your plot so that it more closely matches the one online."
   ]
  },
  {
   "cell_type": "code",
   "execution_count": null,
   "metadata": {},
   "outputs": [],
   "source": [
    "# Place your code here"
   ]
  },
  {
   "cell_type": "markdown",
   "metadata": {},
   "source": [
    "### 2.d. Zooming in on a flare\n",
    "\n",
    "Great! Now let's dive into this data set further. As from the reading, we know that the Crab Nebula flares in gamma-rays, and so we should be able to see flares in this data. Let's zoom into one of these flares in particular. There seems to be a flare around day 6500. Adapt your plot to visualize this flare."
   ]
  },
  {
   "cell_type": "code",
   "execution_count": null,
   "metadata": {},
   "outputs": [],
   "source": [
    "# Place your code here"
   ]
  },
  {
   "cell_type": "markdown",
   "metadata": {},
   "source": [
    "Here we can see the flux of the Crab Nebula has increased an order of magnitude. Now let's try to fit some functions to this flare to find the time when the flare peaks."
   ]
  },
  {
   "cell_type": "markdown",
   "metadata": {},
   "source": [
    "# Question 3: Introduction to Functions"
   ]
  },
  {
   "cell_type": "markdown",
   "metadata": {},
   "source": [
    "Just like the functions we have already used in this class (such as `plt.errorbar` or `print`), a function is a block of code which only runs when it is called. You can pass data, known as parameters, into a function. For example, the `print` function intakes a parameter, and does something to that parameter, in this case it prints that parameter to the screen: For example, `print(\"Hello\")` intakes the parameter \"Hello\" and prints it to the screen. Here, we will be able to define our own functions that can intake different parameter(s) and do something to them. To define a new function, we use the following format:\n",
    "\n",
    "`def function(parameters):\n",
    "    perform a function\n",
    "    return output`\n",
    "    \n",
    "So for example, let me define a function (that I will call add5) that will add 5 to a number x I input:"
   ]
  },
  {
   "cell_type": "code",
   "execution_count": null,
   "metadata": {},
   "outputs": [],
   "source": [
    "def add5(x):\n",
    "    result = x + 5\n",
    "    return result"
   ]
  },
  {
   "cell_type": "markdown",
   "metadata": {},
   "source": [
    "Now that we have defined this function, we can call it in our script to use it. So for example, if I wanted to add 5 to a number, let's say 7, I would call the function by doing the following and running it:"
   ]
  },
  {
   "cell_type": "code",
   "execution_count": null,
   "metadata": {},
   "outputs": [],
   "source": [
    "add5(7)"
   ]
  },
  {
   "cell_type": "markdown",
   "metadata": {},
   "source": [
    "And look at that! Our function has taken our input (7) and added 5 to it, and returned the result (12). Functions can be made very complex, and even have functions within them, but if you would like to learn more, please refer to this website: <url> https://www.datacamp.com/community/tutorials/functions-python-tutorial ."
   ]
  },
  {
   "cell_type": "markdown",
   "metadata": {},
   "source": [
    "### 3.a. Create your own function\n",
    "\n",
    "Create your own function (it can do anything!) and run it below."
   ]
  },
  {
   "cell_type": "code",
   "execution_count": null,
   "metadata": {},
   "outputs": [],
   "source": [
    "# Put your function here"
   ]
  },
  {
   "cell_type": "markdown",
   "metadata": {},
   "source": [
    "# Question 4: Using Functions to fit our data\n",
    "\n",
    "Now let's take what we've learned about python function to help us fit our flare. One of the best first-pass flare fitting functions is the Gaussian function. Let's make a python Gaussian function. Below, I have defined a python function that computes the gaussian for our input x-array (x), where we define the parameters of our gaussian with a height `a`, a position `b`, and a standard deviation `c`:"
   ]
  },
  {
   "cell_type": "code",
   "execution_count": null,
   "metadata": {},
   "outputs": [],
   "source": [
    "def gauss(x, a, b, c):\n",
    "    return a * np.exp(-(x-b)**2/(2*c**2))"
   ]
  },
  {
   "cell_type": "markdown",
   "metadata": {},
   "source": [
    "### 4.a. Fit your data to a Gaussian and plot\n",
    "\n",
    "\n",
    "Now that we have defined a function that we want to fit our data to, let's talk about how exactly we get our code to fit the data: meaning, what are the best a, b, and c parameters that best fit our data when we input our flare light curve. To do so, look up the documentation for the `curve_fit` function from the `scipy.optimize` module (you will need to import it first). \n",
    "* First, select from the data the time frame you want to fit. Make new arrays that contain just these data.\n",
    "* Next, use the documentation and the examples provided in this documentation to fit your selected data to the Gaussian function. It is usually a good idea to give an intial guess for the parameters. \n",
    "* Once you have fit the data, plot this fit and the data to qualitatively see how well the fit is."
   ]
  },
  {
   "cell_type": "code",
   "execution_count": null,
   "metadata": {},
   "outputs": [],
   "source": [
    "# Place your fitting code here"
   ]
  },
  {
   "cell_type": "code",
   "execution_count": null,
   "metadata": {},
   "outputs": [],
   "source": [
    "# Place your code to plot here"
   ]
  },
  {
   "cell_type": "markdown",
   "metadata": {},
   "source": [
    "### 4.b. Reflecting on the Gaussian fit\n",
    "\n",
    "\n",
    "Here we have fit our first data set from an archive! Does this look like a good fit? How could we improve the fit? When is the fitted peak of this flare (the fitted 'b' parameter)?  "
   ]
  },
  {
   "cell_type": "markdown",
   "metadata": {},
   "source": [
    "<span style=\"color:blue\">\n",
    "    Your answer here\n",
    "</span>"
   ]
  },
  {
   "cell_type": "markdown",
   "metadata": {},
   "source": [
    "### 4.c. Fitting Data to a 2-D Polynomial\n",
    "\n",
    "Gaussian functions are a great first stepping stone, but let's now try to fit a second degree polynomial to our data. To do this we will use the `polyfit` (which you can use to fit a polynomial to your data) and `poly1d` (which you can use to calculate the polynomial function after fitting) functions. These are supplied in the `numpy` module. Please use the documentation to fit your flare to a second degree polynomial. Then, plot this fit with the flare data."
   ]
  },
  {
   "cell_type": "code",
   "execution_count": null,
   "metadata": {},
   "outputs": [],
   "source": [
    "# Place your code here"
   ]
  },
  {
   "cell_type": "markdown",
   "metadata": {},
   "source": [
    "### 4.d. Comparing your fits\n",
    "\n",
    "Now plot both your Gaussian fit and your second degree polynomial fit on top of one another. "
   ]
  },
  {
   "cell_type": "code",
   "execution_count": null,
   "metadata": {},
   "outputs": [],
   "source": [
    "# Place your code here"
   ]
  },
  {
   "cell_type": "markdown",
   "metadata": {},
   "source": [
    "# Question 5: Residuals\n",
    "\n",
    "### 5.a. Plotting the residual\n",
    "\n",
    "One way to determine which fitting algorithm fit our data the best is to determine residuals: the difference between our data and the fit. That is,\n",
    "$$ residual = y_{observed}-y_{model} $$\n",
    "Compute the residuals for both fits and plot them (make sure to label which curve corresponds to which fit). "
   ]
  },
  {
   "cell_type": "code",
   "execution_count": null,
   "metadata": {},
   "outputs": [],
   "source": [
    "# Place your code here"
   ]
  },
  {
   "cell_type": "code",
   "execution_count": null,
   "metadata": {},
   "outputs": [],
   "source": [
    "# Place your code here"
   ]
  },
  {
   "cell_type": "markdown",
   "metadata": {},
   "source": [
    "### 5.b. Calculating the RMSE (residual mean square error)\n",
    "\n",
    "We can also calculate a single number that reflects the residuals, which is the RMSE. The RMSE is defined as:\n",
    "\n",
    "$$\\sqrt{ \\frac1N \\sum{ (y_{observed}-y_{model})^2 } }$$\n",
    "\n",
    "Where $N$ is the total number of data points that were used in the fit. Note that the residuals you calculated in the previous part appear in this equation, and that they are squared before they are summed together. Compute the RMSE for both fits and print out the values."
   ]
  },
  {
   "cell_type": "code",
   "execution_count": null,
   "metadata": {},
   "outputs": [],
   "source": [
    "# Place your code for your plot here"
   ]
  },
  {
   "cell_type": "markdown",
   "metadata": {},
   "source": [
    "### 5.c. Comment on your results\n",
    "\n",
    "Considering the fits qualitatively (i.e. the plots you made) and quantitatively (i.e. the RMSE), which of the fits would you use? If you were doing this for your research project, what next steps might you take? (No right answers!)"
   ]
  },
  {
   "cell_type": "markdown",
   "metadata": {},
   "source": [
    "<span style=\"color:blue\">\n",
    "    Your answer here\n",
    "</span>"
   ]
  },
  {
   "cell_type": "code",
   "execution_count": null,
   "metadata": {},
   "outputs": [],
   "source": []
  }
 ],
 "metadata": {
  "kernelspec": {
   "display_name": "Python 3 (ipykernel)",
   "language": "python",
   "name": "python3"
  },
  "language_info": {
   "codemirror_mode": {
    "name": "ipython",
    "version": 3
   },
   "file_extension": ".py",
   "mimetype": "text/x-python",
   "name": "python",
   "nbconvert_exporter": "python",
   "pygments_lexer": "ipython3",
   "version": "3.8.12"
  }
 },
 "nbformat": 4,
 "nbformat_minor": 2
}
