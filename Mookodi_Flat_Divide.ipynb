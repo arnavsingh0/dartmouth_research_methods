{
 "cells": [
  {
   "cell_type": "markdown",
   "id": "7103fcdf",
   "metadata": {},
   "source": [
    "# Flat Fielding Mookodi Data\n",
    "This code will take bias subtracted Mookodi fits files in the current directory, create a normalized master flat in each of the g and i frames and then divide each science image by the appropriate normalized master flat. "
   ]
  },
  {
   "cell_type": "code",
   "execution_count": null,
   "id": "7b796b89",
   "metadata": {},
   "outputs": [],
   "source": [
    "\n",
    "import os\n",
    "from pathlib import Path\n",
    "import glob\n",
    "import numpy as np\n",
    "from astropy.io import fits"
   ]
  },
  {
   "cell_type": "markdown",
   "id": "d9dbc486",
   "metadata": {},
   "source": [
    "## Create the master flat in a given filter\n",
    "This function takes in a list of flat fields in a given filter and creates a normalized master flat.  Each input flat field is normalized by its mean value, and the master flat is created by taking a median of the individual normalized flat fields.  The code outputs the mean value and standard deviation of each individual flat field.  Exameine these values, and if any of them are off (means too high or low, or standard deviations odd), delete the associated individual flat field image and re-run the code (which will overwrite the previous master flat image). The master flat field is output as a fits file, with some keywords added to the header to indicate that we have created a measter flat field."
   ]
  },
  {
   "cell_type": "code",
   "execution_count": null,
   "id": "95fe1130",
   "metadata": {},
   "outputs": [],
   "source": [
    "###############################################################################\n",
    "\n",
    "def make_master_flat (flat_files, filter, filename) : \n",
    "   flat_concat = []\n",
    "   print(\"Creating flat in filter: \", filter)\n",
    "   for i in flat_files:\n",
    "       flat_hdulist = fits.open(i, ignore_missing_end=True)\n",
    "       flat_hdu = flat_hdulist[0]\n",
    "       flat_data = flat_hdu.data.astype(float)\n",
    "       flat_mean = np.mean(flat_data)\n",
    "       flat_std = np.std(flat_data)\n",
    "\n",
    "       file_name = os.path.basename(i)\n",
    "       print(file_name, filter, \" mean: \", flat_mean, \"stand. dev: \",flat_std)\n",
    "\n",
    "#create normalized flats\n",
    "       flat_concat.append(flat_data / flat_mean)\n",
    "\n",
    "# take median of all biases to make master bias\n",
    "   master_flat = np.median(flat_concat, axis=0)\n",
    "\n",
    "\n",
    "#write out the master flat frame, adding keywords \n",
    "   new_hdu = flat_hdu\n",
    "   new_hdu.header['MASTERFT'] = (\"TRUE\", \"Master flat\")\n",
    "   new_hdu.header['NCOMBINE'] = (str(len(gflat_files)), \"Median Combine\")\n",
    "   new_hdu.data = np.array((master_flat))\n",
    "   new_hdu.writeto(filename, overwrite=True)\n",
    "   flat_hdulist.close()\n",
    "   print(\"Created master flat in filter\", filter, \" called \", filename)\n",
    "\n"
   ]
  },
  {
   "cell_type": "markdown",
   "id": "3efb8956",
   "metadata": {},
   "source": [
    "## Ouput the flat fielded science images\n",
    "This function take the list of sciene images in a given filter, and the associated master flat field and outputs the flat fielded science images.  An 'f' is pre-appended to the file name of the new fits files. "
   ]
  },
  {
   "cell_type": "code",
   "execution_count": null,
   "id": "a2f13368",
   "metadata": {},
   "outputs": [],
   "source": [
    "###############################################################################\n",
    "\n",
    "\n",
    "def divide_flat (science_files, filter, master_flat) : \n",
    "\n",
    "   print()\n",
    "   print(\"Flatfielding filter: \", filter)\n",
    "\n",
    "   flat_hdulist = fits.open(master_flat, ignore_missing_end=True)\n",
    "   flat_hdu = flat_hdulist[0]\n",
    "   flat_data = flat_hdu.data.astype(float)\n",
    "\n",
    "   for i in science_files:\n",
    "       science_hdulist = fits.open(i, ignore_missing_end=True)\n",
    "       science_hdu = science_hdulist[0]\n",
    "       science_data = science_hdu.data.astype(float)\n",
    "\n",
    "       file_name = \"f\" + os.path.basename(i)\n",
    "       red_image = science_data/flat_data\n",
    "\n",
    "# write out the flat fielded science images adding keywords \n",
    "       new_hdu = science_hdu\n",
    "       new_hdu.header['FLATFIED'] = (\"TRUE\", \"Divided by Flat Field\")\n",
    "       new_hdu.header['FLATNAME'] = (master_flat, \"Name of flat field image\")\n",
    "       new_hdu.data = np.array((red_image))\n",
    "       new_hdu.writeto(file_name, overwrite=True)\n",
    "       flat_hdulist.close()\n",
    "       print(\"Created flat field subtracted image:\", file_name)\n",
    "\n",
    "\n",
    "###############################################################################\n",
    "\n"
   ]
  },
  {
   "cell_type": "markdown",
   "id": "6463732d",
   "metadata": {},
   "source": [
    "## Main program\n",
    "Loop over all of the bias subtracted fits files in a given directory and create a list of science image and flat field images in each of the g and i filters."
   ]
  },
  {
   "cell_type": "code",
   "execution_count": null,
   "id": "3101a94a",
   "metadata": {},
   "outputs": [],
   "source": [
    "my_cwd = Path(os.getcwd())\n",
    "fits_files = list(my_cwd.glob('b*.fits'))\n",
    "\n",
    "flat_keyword = \"SKYFLAT\"\n",
    "\n",
    "iflat_files = []\n",
    "gflat_files = []\n",
    "gscience_files = []\n",
    "iscience_files = []\n",
    "\n",
    "for file in fits_files:\n",
    "    hdul = fits.open(file)  # open a FITS file\n",
    "    hdr = hdul[0].header  #extract the header information \n",
    "\n",
    "    if hdr['IMAGETYP'] == flat_keyword :\n",
    "       if hdr['FILTERA'] == 'g' :\n",
    "           gflat_files.append(file)\n",
    "       elif hdr['FILTERA'] == 'i' :\n",
    "           iflat_files.append(file)\n",
    "       else :\n",
    "           print(\"File is not a g or i filter: \", file,  hdr['FILTERA'] )\n",
    "    else :\n",
    "     #must be a science image\n",
    "       if hdr['FILTERA'] == 'g' :\n",
    "           gscience_files.append(file)\n",
    "       elif hdr['FILTERA'] == 'i' :\n",
    "           iscience_files.append(file)\n",
    "       else :\n",
    "           print(\"File is not a g or i filter: \",  file, hdr['FILTERA'])\n",
    "\n",
    "\n",
    "if len(gflat_files) == 0:\n",
    "       print(\"     !!! ERROR: no g flat  files found\" )\n",
    "       exit()\n",
    "if len(iflat_files) == 0:\n",
    "       print(\"     !!! ERROR: no i flat  files found\" )\n",
    "       exit()\n",
    "\n"
   ]
  },
  {
   "cell_type": "markdown",
   "id": "a3e5cd44",
   "metadata": {},
   "source": [
    "## Create the master flat field in each filter"
   ]
  },
  {
   "cell_type": "code",
   "execution_count": null,
   "id": "af568fa5",
   "metadata": {},
   "outputs": [],
   "source": [
    "make_master_flat (gflat_files, \"g\", \"master_gflat.fits\")\n",
    "make_master_flat (iflat_files, \"i\", \"master_iflat.fits\")"
   ]
  },
  {
   "cell_type": "markdown",
   "id": "5c578366",
   "metadata": {},
   "source": [
    "## Divide the science images by the appropriate flat field and output the flat fielded images"
   ]
  },
  {
   "cell_type": "code",
   "execution_count": null,
   "id": "066bf9fc",
   "metadata": {},
   "outputs": [],
   "source": [
    "divide_flat(gscience_files, \"g\", \"master_gflat.fits\")\n",
    "divide_flat(iscience_files, \"i\", \"master_iflat.fits\")\n"
   ]
  },
  {
   "cell_type": "code",
   "execution_count": null,
   "id": "6668fef9",
   "metadata": {},
   "outputs": [],
   "source": []
  }
 ],
 "metadata": {
  "kernelspec": {
   "display_name": "Python 3 (ipykernel)",
   "language": "python",
   "name": "python3"
  },
  "language_info": {
   "codemirror_mode": {
    "name": "ipython",
    "version": 3
   },
   "file_extension": ".py",
   "mimetype": "text/x-python",
   "name": "python",
   "nbconvert_exporter": "python",
   "pygments_lexer": "ipython3",
   "version": "3.9.7"
  }
 },
 "nbformat": 4,
 "nbformat_minor": 5
}
